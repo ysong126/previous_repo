{
 "cells": [
  {
   "cell_type": "code",
   "execution_count": 137,
   "id": "d80c770f",
   "metadata": {},
   "outputs": [],
   "source": [
    "# t-test  F-test  R^2\n",
    "from sklearn.datasets import fetch_california_housing as fetch_data\n",
    "import numpy as np\n",
    "import pandas as pd\n",
    "import scipy.stats as st\n"
   ]
  },
  {
   "cell_type": "code",
   "execution_count": 138,
   "id": "78031057",
   "metadata": {},
   "outputs": [
    {
     "data": {
      "text/html": [
       "<div>\n",
       "<style scoped>\n",
       "    .dataframe tbody tr th:only-of-type {\n",
       "        vertical-align: middle;\n",
       "    }\n",
       "\n",
       "    .dataframe tbody tr th {\n",
       "        vertical-align: top;\n",
       "    }\n",
       "\n",
       "    .dataframe thead th {\n",
       "        text-align: right;\n",
       "    }\n",
       "</style>\n",
       "<table border=\"1\" class=\"dataframe\">\n",
       "  <thead>\n",
       "    <tr style=\"text-align: right;\">\n",
       "      <th></th>\n",
       "      <th>MedInc</th>\n",
       "      <th>HouseAge</th>\n",
       "      <th>AveRooms</th>\n",
       "      <th>AveBedrms</th>\n",
       "      <th>Population</th>\n",
       "      <th>AveOccup</th>\n",
       "      <th>Latitude</th>\n",
       "      <th>Longitude</th>\n",
       "    </tr>\n",
       "  </thead>\n",
       "  <tbody>\n",
       "    <tr>\n",
       "      <th>0</th>\n",
       "      <td>8.3252</td>\n",
       "      <td>41.0</td>\n",
       "      <td>6.984127</td>\n",
       "      <td>1.023810</td>\n",
       "      <td>322.0</td>\n",
       "      <td>2.555556</td>\n",
       "      <td>37.88</td>\n",
       "      <td>-122.23</td>\n",
       "    </tr>\n",
       "    <tr>\n",
       "      <th>1</th>\n",
       "      <td>8.3014</td>\n",
       "      <td>21.0</td>\n",
       "      <td>6.238137</td>\n",
       "      <td>0.971880</td>\n",
       "      <td>2401.0</td>\n",
       "      <td>2.109842</td>\n",
       "      <td>37.86</td>\n",
       "      <td>-122.22</td>\n",
       "    </tr>\n",
       "    <tr>\n",
       "      <th>2</th>\n",
       "      <td>7.2574</td>\n",
       "      <td>52.0</td>\n",
       "      <td>8.288136</td>\n",
       "      <td>1.073446</td>\n",
       "      <td>496.0</td>\n",
       "      <td>2.802260</td>\n",
       "      <td>37.85</td>\n",
       "      <td>-122.24</td>\n",
       "    </tr>\n",
       "    <tr>\n",
       "      <th>3</th>\n",
       "      <td>5.6431</td>\n",
       "      <td>52.0</td>\n",
       "      <td>5.817352</td>\n",
       "      <td>1.073059</td>\n",
       "      <td>558.0</td>\n",
       "      <td>2.547945</td>\n",
       "      <td>37.85</td>\n",
       "      <td>-122.25</td>\n",
       "    </tr>\n",
       "    <tr>\n",
       "      <th>4</th>\n",
       "      <td>3.8462</td>\n",
       "      <td>52.0</td>\n",
       "      <td>6.281853</td>\n",
       "      <td>1.081081</td>\n",
       "      <td>565.0</td>\n",
       "      <td>2.181467</td>\n",
       "      <td>37.85</td>\n",
       "      <td>-122.25</td>\n",
       "    </tr>\n",
       "  </tbody>\n",
       "</table>\n",
       "</div>"
      ],
      "text/plain": [
       "   MedInc  HouseAge  AveRooms  AveBedrms  Population  AveOccup  Latitude  \\\n",
       "0  8.3252      41.0  6.984127   1.023810       322.0  2.555556     37.88   \n",
       "1  8.3014      21.0  6.238137   0.971880      2401.0  2.109842     37.86   \n",
       "2  7.2574      52.0  8.288136   1.073446       496.0  2.802260     37.85   \n",
       "3  5.6431      52.0  5.817352   1.073059       558.0  2.547945     37.85   \n",
       "4  3.8462      52.0  6.281853   1.081081       565.0  2.181467     37.85   \n",
       "\n",
       "   Longitude  \n",
       "0    -122.23  \n",
       "1    -122.22  \n",
       "2    -122.24  \n",
       "3    -122.25  \n",
       "4    -122.25  "
      ]
     },
     "metadata": {},
     "output_type": "display_data"
    },
    {
     "data": {
      "text/plain": [
       "array([4.526, 3.585, 3.521, ..., 0.923, 0.847, 0.894])"
      ]
     },
     "metadata": {},
     "output_type": "display_data"
    }
   ],
   "source": [
    "data = fetch_data()\n",
    "housing_data = pd.DataFrame(data.data)\n",
    "housing_data.columns = data.feature_names\n",
    "targets = data.target\n",
    "display(housing_data.head())\n",
    "display(targets)"
   ]
  },
  {
   "cell_type": "code",
   "execution_count": 225,
   "id": "882d608e",
   "metadata": {},
   "outputs": [],
   "source": [
    "class OLS_model(object):\n",
    "    \n",
    "    def __init__(self,y,X):\n",
    "        data_x = X.copy()\n",
    "        data_x.insert(0,'intercept',np.ones(len(data_x)))\n",
    "        self.columns =data_x.columns\n",
    "        self.X = np.mat(data_x)\n",
    "        self.b = None\n",
    "        self.y = y.copy()\n",
    "        self.N = self.X.shape[0]\n",
    "        self.K = self.X.shape[1]\n",
    "        \n",
    "    def fit_data(self,output=True):\n",
    "        \n",
    "        self.b = np.array(np.dot(np.dot(np.linalg.inv(np.dot(self.X.T,self.X)),self.X.T), np.mat(self.y).T))\n",
    "        \n",
    "        for i in range(self.K):\n",
    "            print(f'vairable {self.columns[i]} coef is {self.b[i][0]}')\n",
    "        return self.b\n",
    "                          \n",
    "    def predict_y(self,X_pred):\n",
    "        y_hat =np.dot(X_pred,self.b) \n",
    "        return y_hat\n",
    "                          \n",
    "    def t_test(self,alpha=0.05):\n",
    "        X_XT_inv = np.linalg.inv(np.dot(self.X.T,self.X))\n",
    "        y_hat =np.array(np.dot(self.X,self.b).T)[0]\n",
    "        sigma_hat = np.sum((y_hat-self.y)**2)/(self.N-self.K)\n",
    "        #print(X_XT_inv)\n",
    "        for i in range(self.K-1):\n",
    "            sk = X_XT_inv[i,i]\n",
    "            #print( f'sk value is{sk}')\n",
    "            Tk = self.b[i][0]/np.sqrt(sigma_hat*sk)\n",
    "            #print(f'Tk value is{Tk}')\n",
    "            if abs(Tk)>abs(st.t.ppf(alpha/2,df = self.N-self.K)):\n",
    "                print(f'reject H0. T of {i} is {Tk}')\n",
    "            else:\n",
    "                print(f'can\\'t reject H0. T of {i} is {Tk}\\n' )\n",
    "        return\n",
    "    \n",
    "    def R_square(self):\n",
    "        y_mean = np.mean(self.y)\n",
    "        y_hat = np.array(np.dot(self.X,self.b).T)[0]\n",
    "        TSS = np.sum(np.square(self.y-y_mean))\n",
    "        RSS = np.sum(np.square(self.y-y_hat))\n",
    "        self.R_2 = 1-RSS/TSS\n",
    "        return self.R_2\n",
    "    \n",
    "    def f_test(self,alpha=0.05):\n",
    "        r2 = self.R_square()\n",
    "        F = r2/(self.K-1)/((1-r2)/(self.N-self.K))\n",
    "        if abs(F)>abs(st.f.ppf(1-alpha,dfn=self.K-1,dfd=self.N-self.K)):\n",
    "            print(f'F of function is {F}, reject H0')\n",
    "        else:\n",
    "            print(f'F of function is {F}, can\\'t reject H0')\n",
    "        return\n",
    "                          "
   ]
  },
  {
   "cell_type": "code",
   "execution_count": 226,
   "id": "0cf9321b",
   "metadata": {},
   "outputs": [],
   "source": [
    "ols_m = OLS_model(targets,housing_data)"
   ]
  },
  {
   "cell_type": "code",
   "execution_count": 227,
   "id": "1a8d9541",
   "metadata": {},
   "outputs": [
    {
     "name": "stdout",
     "output_type": "stream",
     "text": [
      "vairable intercept coef is -36.94192020630866\n",
      "vairable MedInc coef is 0.43669329313679733\n",
      "vairable HouseAge coef is 0.009435778033390466\n",
      "vairable AveRooms coef is -0.10732204139378053\n",
      "vairable AveBedrms coef is 0.6450656935308543\n",
      "vairable Population coef is -3.9763894208274435e-06\n",
      "vairable AveOccup coef is -0.003786542654993447\n",
      "vairable Latitude coef is -0.4213143775180024\n",
      "vairable Longitude coef is -0.43451375466458014\n"
     ]
    },
    {
     "data": {
      "text/plain": [
       "array([[-3.69419202e+01],\n",
       "       [ 4.36693293e-01],\n",
       "       [ 9.43577803e-03],\n",
       "       [-1.07322041e-01],\n",
       "       [ 6.45065694e-01],\n",
       "       [-3.97638942e-06],\n",
       "       [-3.78654265e-03],\n",
       "       [-4.21314378e-01],\n",
       "       [-4.34513755e-01]])"
      ]
     },
     "execution_count": 227,
     "metadata": {},
     "output_type": "execute_result"
    }
   ],
   "source": [
    "ols_m.fit_data()"
   ]
  },
  {
   "cell_type": "code",
   "execution_count": null,
   "id": "f945f309",
   "metadata": {},
   "outputs": [],
   "source": []
  },
  {
   "cell_type": "code",
   "execution_count": 228,
   "id": "110bf985",
   "metadata": {},
   "outputs": [
    {
     "name": "stdout",
     "output_type": "stream",
     "text": [
      "reject H0. T of 0 is -56.06653255400927\n",
      "reject H0. T of 1 is 104.05380188420229\n",
      "reject H0. T of 2 is 21.143205211533065\n",
      "reject H0. T of 3 is -18.23536534862611\n",
      "reject H0. T of 4 is 22.927563478648217\n",
      "can't reject H0. T of 5 is -0.8372759090301649\n",
      "\n",
      "reject H0. T of 6 is -7.768623843923927\n",
      "reject H0. T of 7 is -58.54136565050525\n"
     ]
    }
   ],
   "source": [
    "ols_m.t_test()"
   ]
  },
  {
   "cell_type": "code",
   "execution_count": 229,
   "id": "ffa7f60f",
   "metadata": {},
   "outputs": [
    {
     "name": "stdout",
     "output_type": "stream",
     "text": [
      "[[ 2.06400000e+04  7.98906495e+04  5.91119000e+05  1.12054555e+05\n",
      "   2.26353751e+04  2.94218400e+07  6.33783225e+04  7.35441620e+05\n",
      "  -2.46791870e+06]]\n"
     ]
    },
    {
     "ename": "IndexError",
     "evalue": "index 1 is out of bounds for axis 0 with size 1",
     "output_type": "error",
     "traceback": [
      "\u001b[0;31m---------------------------------------------------------------------------\u001b[0m",
      "\u001b[0;31mIndexError\u001b[0m                                Traceback (most recent call last)",
      "\u001b[0;32m<ipython-input-229-7e6ee0df3a6e>\u001b[0m in \u001b[0;36m<module>\u001b[0;34m\u001b[0m\n\u001b[1;32m      1\u001b[0m \u001b[0;32mfor\u001b[0m \u001b[0mi\u001b[0m \u001b[0;32min\u001b[0m \u001b[0mrange\u001b[0m\u001b[0;34m(\u001b[0m\u001b[0;36m11\u001b[0m\u001b[0;34m)\u001b[0m\u001b[0;34m:\u001b[0m\u001b[0;34m\u001b[0m\u001b[0;34m\u001b[0m\u001b[0m\n\u001b[0;32m----> 2\u001b[0;31m     \u001b[0mprint\u001b[0m\u001b[0;34m(\u001b[0m\u001b[0mnp\u001b[0m\u001b[0;34m.\u001b[0m\u001b[0mdot\u001b[0m\u001b[0;34m(\u001b[0m\u001b[0mols_m\u001b[0m\u001b[0;34m.\u001b[0m\u001b[0mX\u001b[0m\u001b[0;34m.\u001b[0m\u001b[0mT\u001b[0m\u001b[0;34m,\u001b[0m\u001b[0mols_m\u001b[0m\u001b[0;34m.\u001b[0m\u001b[0mX\u001b[0m\u001b[0;34m)\u001b[0m\u001b[0;34m[\u001b[0m\u001b[0mi\u001b[0m\u001b[0;34m]\u001b[0m\u001b[0;34m[\u001b[0m\u001b[0mi\u001b[0m\u001b[0;34m]\u001b[0m\u001b[0;34m)\u001b[0m\u001b[0;34m\u001b[0m\u001b[0;34m\u001b[0m\u001b[0m\n\u001b[0m",
      "\u001b[0;32m/Library/Frameworks/Python.framework/Versions/3.7/lib/python3.7/site-packages/numpy/matrixlib/defmatrix.py\u001b[0m in \u001b[0;36m__getitem__\u001b[0;34m(self, index)\u001b[0m\n\u001b[1;32m    191\u001b[0m \u001b[0;34m\u001b[0m\u001b[0m\n\u001b[1;32m    192\u001b[0m         \u001b[0;32mtry\u001b[0m\u001b[0;34m:\u001b[0m\u001b[0;34m\u001b[0m\u001b[0;34m\u001b[0m\u001b[0m\n\u001b[0;32m--> 193\u001b[0;31m             \u001b[0mout\u001b[0m \u001b[0;34m=\u001b[0m \u001b[0mN\u001b[0m\u001b[0;34m.\u001b[0m\u001b[0mndarray\u001b[0m\u001b[0;34m.\u001b[0m\u001b[0m__getitem__\u001b[0m\u001b[0;34m(\u001b[0m\u001b[0mself\u001b[0m\u001b[0;34m,\u001b[0m \u001b[0mindex\u001b[0m\u001b[0;34m)\u001b[0m\u001b[0;34m\u001b[0m\u001b[0;34m\u001b[0m\u001b[0m\n\u001b[0m\u001b[1;32m    194\u001b[0m         \u001b[0;32mfinally\u001b[0m\u001b[0;34m:\u001b[0m\u001b[0;34m\u001b[0m\u001b[0;34m\u001b[0m\u001b[0m\n\u001b[1;32m    195\u001b[0m             \u001b[0mself\u001b[0m\u001b[0;34m.\u001b[0m\u001b[0m_getitem\u001b[0m \u001b[0;34m=\u001b[0m \u001b[0;32mFalse\u001b[0m\u001b[0;34m\u001b[0m\u001b[0;34m\u001b[0m\u001b[0m\n",
      "\u001b[0;31mIndexError\u001b[0m: index 1 is out of bounds for axis 0 with size 1"
     ]
    }
   ],
   "source": [
    "for i in range(11):\n",
    "    print(np.dot(ols_m.X.T,ols_m.X)[i][i])"
   ]
  },
  {
   "cell_type": "code",
   "execution_count": 230,
   "id": "ad4daa03",
   "metadata": {},
   "outputs": [
    {
     "data": {
      "text/plain": [
       "matrix([[ 2.06400000e+04,  7.98906495e+04,  5.91119000e+05,\n",
       "          1.12054555e+05,  2.26353751e+04,  2.94218400e+07,\n",
       "          6.33783225e+04,  7.35441620e+05, -2.46791870e+06],\n",
       "        [ 7.98906495e+04,  3.83723229e+05,  2.22928568e+06,\n",
       "          4.65439543e+05,  8.64612451e+04,  1.14096929e+08,\n",
       "          2.52959028e+05,  2.83996841e+06, -9.55369356e+06],\n",
       "        [ 5.91119000e+05,  2.22928568e+06,  2.01984850e+07,\n",
       "          3.11067738e+06,  6.38694833e+05,  7.55482945e+08,\n",
       "          1.85071039e+06,  2.10688691e+07, -7.07362324e+07],\n",
       "        [ 1.12054555e+05,  4.65439543e+05,  3.11067738e+06,\n",
       "          7.34686462e+05,  1.43399883e+05,  1.55555196e+08,\n",
       "          3.41507443e+05,  4.00431634e+06, -1.34011476e+07],\n",
       "        [ 2.26353751e+04,  8.64612451e+04,  6.38694833e+05,\n",
       "          1.43399883e+05,  2.94589973e+04,  3.15329544e+07,\n",
       "          6.88775051e+04,  8.07997152e+05, -2.70624360e+06],\n",
       "        [ 2.94218400e+07,  1.14096929e+08,  7.55482945e+08,\n",
       "          1.55555196e+08,  3.15329544e+07,  6.84090565e+10,\n",
       "          1.07303639e+08,  1.04292402e+09, -3.51328850e+09],\n",
       "        [ 6.33783225e+04,  2.52959028e+05,  1.85071039e+06,\n",
       "          3.41507443e+05,  6.88775051e+04,  1.07303639e+08,\n",
       "          2.42094243e+06,  2.25937098e+06, -7.57706399e+06],\n",
       "        [ 7.35441620e+05,  2.83996841e+06,  2.10688691e+07,\n",
       "          4.00431634e+06,  8.07997152e+05,  1.04292402e+09,\n",
       "          2.25937098e+06,  2.62993151e+07, -8.80182068e+07],\n",
       "        [-2.46791870e+06, -9.55369356e+06, -7.07362324e+07,\n",
       "         -1.34011476e+07, -2.70624360e+06, -3.51328850e+09,\n",
       "         -7.57706399e+06, -8.80182068e+07,  2.95171157e+08]])"
      ]
     },
     "execution_count": 230,
     "metadata": {},
     "output_type": "execute_result"
    }
   ],
   "source": [
    "np.dot(ols_m.X.T,ols_m.X)"
   ]
  },
  {
   "cell_type": "code",
   "execution_count": 231,
   "id": "ac0eb713",
   "metadata": {},
   "outputs": [
    {
     "data": {
      "text/plain": [
       "20640.0"
      ]
     },
     "execution_count": 231,
     "metadata": {},
     "output_type": "execute_result"
    }
   ],
   "source": [
    "np.dot(ols_m.X.T,ols_m.X)[0,0]"
   ]
  },
  {
   "cell_type": "code",
   "execution_count": 232,
   "id": "5ae8e0ab",
   "metadata": {},
   "outputs": [
    {
     "data": {
      "text/plain": [
       "Index(['intercept', 'MedInc', 'HouseAge', 'AveRooms', 'AveBedrms',\n",
       "       'Population', 'AveOccup', 'Latitude', 'Longitude'],\n",
       "      dtype='object')"
      ]
     },
     "execution_count": 232,
     "metadata": {},
     "output_type": "execute_result"
    }
   ],
   "source": [
    "ols_m.columns"
   ]
  },
  {
   "cell_type": "code",
   "execution_count": 233,
   "id": "126544fe",
   "metadata": {},
   "outputs": [
    {
     "data": {
      "text/plain": [
       "array([[-3.69419202e+01],\n",
       "       [ 4.36693293e-01],\n",
       "       [ 9.43577803e-03],\n",
       "       [-1.07322041e-01],\n",
       "       [ 6.45065694e-01],\n",
       "       [-3.97638942e-06],\n",
       "       [-3.78654265e-03],\n",
       "       [-4.21314378e-01],\n",
       "       [-4.34513755e-01]])"
      ]
     },
     "execution_count": 233,
     "metadata": {},
     "output_type": "execute_result"
    }
   ],
   "source": [
    "ols_m.b"
   ]
  },
  {
   "cell_type": "code",
   "execution_count": 234,
   "id": "264fb7c2",
   "metadata": {},
   "outputs": [],
   "source": [
    "import statsmodels.api as sm\n",
    "from statsmodels.formula.api import ols"
   ]
  },
  {
   "cell_type": "code",
   "execution_count": 235,
   "id": "2d43afa9",
   "metadata": {},
   "outputs": [],
   "source": [
    "exo = sm.add_constant(housing_data)\n",
    "ls = sm.OLS(targets,exo)"
   ]
  },
  {
   "cell_type": "code",
   "execution_count": 236,
   "id": "dc26dd0f",
   "metadata": {},
   "outputs": [],
   "source": [
    "result=ls.fit()"
   ]
  },
  {
   "cell_type": "code",
   "execution_count": 237,
   "id": "edaf81a9",
   "metadata": {},
   "outputs": [
    {
     "data": {
      "text/plain": [
       "const        -36.941920\n",
       "MedInc         0.436693\n",
       "HouseAge       0.009436\n",
       "AveRooms      -0.107322\n",
       "AveBedrms      0.645066\n",
       "Population    -0.000004\n",
       "AveOccup      -0.003787\n",
       "Latitude      -0.421314\n",
       "Longitude     -0.434514\n",
       "dtype: float64"
      ]
     },
     "execution_count": 237,
     "metadata": {},
     "output_type": "execute_result"
    }
   ],
   "source": [
    "result.params"
   ]
  },
  {
   "cell_type": "code",
   "execution_count": 238,
   "id": "598e1672",
   "metadata": {},
   "outputs": [
    {
     "data": {
      "text/plain": [
       "array([[-3.69419202e+01],\n",
       "       [ 4.36693293e-01],\n",
       "       [ 9.43577803e-03],\n",
       "       [-1.07322041e-01],\n",
       "       [ 6.45065694e-01],\n",
       "       [-3.97638942e-06],\n",
       "       [-3.78654265e-03],\n",
       "       [-4.21314378e-01],\n",
       "       [-4.34513755e-01]])"
      ]
     },
     "execution_count": 238,
     "metadata": {},
     "output_type": "execute_result"
    }
   ],
   "source": [
    "ols_m.b"
   ]
  },
  {
   "cell_type": "code",
   "execution_count": 239,
   "id": "79027a45",
   "metadata": {},
   "outputs": [
    {
     "data": {
      "text/plain": [
       "matrix([[-3.69419202e+01,  4.36693293e-01,  9.43577803e-03,\n",
       "         -1.07322041e-01,  6.45065694e-01, -3.97638942e-06,\n",
       "         -3.78654265e-03, -4.21314378e-01, -4.34513755e-01]])"
      ]
     },
     "execution_count": 239,
     "metadata": {},
     "output_type": "execute_result"
    }
   ],
   "source": [
    "np.dot(np.dot(np.linalg.inv(np.dot(ols_m.X.T,ols_m.X)),ols_m.X.T),ols_m.y.T)"
   ]
  },
  {
   "cell_type": "code",
   "execution_count": 240,
   "id": "2a485e26",
   "metadata": {},
   "outputs": [
    {
     "name": "stdout",
     "output_type": "stream",
     "text": [
      "F of function is 3970.360812801199, reject H0\n"
     ]
    }
   ],
   "source": [
    "ols_m.f_test(0.05)"
   ]
  },
  {
   "cell_type": "code",
   "execution_count": 241,
   "id": "f6185cf8",
   "metadata": {},
   "outputs": [
    {
     "data": {
      "text/html": [
       "<table class=\"simpletable\">\n",
       "<caption>OLS Regression Results</caption>\n",
       "<tr>\n",
       "  <th>Dep. Variable:</th>            <td>y</td>        <th>  R-squared:         </th> <td>   0.606</td> \n",
       "</tr>\n",
       "<tr>\n",
       "  <th>Model:</th>                   <td>OLS</td>       <th>  Adj. R-squared:    </th> <td>   0.606</td> \n",
       "</tr>\n",
       "<tr>\n",
       "  <th>Method:</th>             <td>Least Squares</td>  <th>  F-statistic:       </th> <td>   3970.</td> \n",
       "</tr>\n",
       "<tr>\n",
       "  <th>Date:</th>             <td>Sun, 10 Oct 2021</td> <th>  Prob (F-statistic):</th>  <td>  0.00</td>  \n",
       "</tr>\n",
       "<tr>\n",
       "  <th>Time:</th>                 <td>14:47:17</td>     <th>  Log-Likelihood:    </th> <td> -22624.</td> \n",
       "</tr>\n",
       "<tr>\n",
       "  <th>No. Observations:</th>      <td> 20640</td>      <th>  AIC:               </th> <td>4.527e+04</td>\n",
       "</tr>\n",
       "<tr>\n",
       "  <th>Df Residuals:</th>          <td> 20631</td>      <th>  BIC:               </th> <td>4.534e+04</td>\n",
       "</tr>\n",
       "<tr>\n",
       "  <th>Df Model:</th>              <td>     8</td>      <th>                     </th>     <td> </td>    \n",
       "</tr>\n",
       "<tr>\n",
       "  <th>Covariance Type:</th>      <td>nonrobust</td>    <th>                     </th>     <td> </td>    \n",
       "</tr>\n",
       "</table>\n",
       "<table class=\"simpletable\">\n",
       "<tr>\n",
       "       <td></td>         <th>coef</th>     <th>std err</th>      <th>t</th>      <th>P>|t|</th>  <th>[0.025</th>    <th>0.975]</th>  \n",
       "</tr>\n",
       "<tr>\n",
       "  <th>const</th>      <td>  -36.9419</td> <td>    0.659</td> <td>  -56.067</td> <td> 0.000</td> <td>  -38.233</td> <td>  -35.650</td>\n",
       "</tr>\n",
       "<tr>\n",
       "  <th>MedInc</th>     <td>    0.4367</td> <td>    0.004</td> <td>  104.054</td> <td> 0.000</td> <td>    0.428</td> <td>    0.445</td>\n",
       "</tr>\n",
       "<tr>\n",
       "  <th>HouseAge</th>   <td>    0.0094</td> <td>    0.000</td> <td>   21.143</td> <td> 0.000</td> <td>    0.009</td> <td>    0.010</td>\n",
       "</tr>\n",
       "<tr>\n",
       "  <th>AveRooms</th>   <td>   -0.1073</td> <td>    0.006</td> <td>  -18.235</td> <td> 0.000</td> <td>   -0.119</td> <td>   -0.096</td>\n",
       "</tr>\n",
       "<tr>\n",
       "  <th>AveBedrms</th>  <td>    0.6451</td> <td>    0.028</td> <td>   22.928</td> <td> 0.000</td> <td>    0.590</td> <td>    0.700</td>\n",
       "</tr>\n",
       "<tr>\n",
       "  <th>Population</th> <td>-3.976e-06</td> <td> 4.75e-06</td> <td>   -0.837</td> <td> 0.402</td> <td>-1.33e-05</td> <td> 5.33e-06</td>\n",
       "</tr>\n",
       "<tr>\n",
       "  <th>AveOccup</th>   <td>   -0.0038</td> <td>    0.000</td> <td>   -7.769</td> <td> 0.000</td> <td>   -0.005</td> <td>   -0.003</td>\n",
       "</tr>\n",
       "<tr>\n",
       "  <th>Latitude</th>   <td>   -0.4213</td> <td>    0.007</td> <td>  -58.541</td> <td> 0.000</td> <td>   -0.435</td> <td>   -0.407</td>\n",
       "</tr>\n",
       "<tr>\n",
       "  <th>Longitude</th>  <td>   -0.4345</td> <td>    0.008</td> <td>  -57.682</td> <td> 0.000</td> <td>   -0.449</td> <td>   -0.420</td>\n",
       "</tr>\n",
       "</table>\n",
       "<table class=\"simpletable\">\n",
       "<tr>\n",
       "  <th>Omnibus:</th>       <td>4393.650</td> <th>  Durbin-Watson:     </th> <td>   0.885</td> \n",
       "</tr>\n",
       "<tr>\n",
       "  <th>Prob(Omnibus):</th>  <td> 0.000</td>  <th>  Jarque-Bera (JB):  </th> <td>14087.596</td>\n",
       "</tr>\n",
       "<tr>\n",
       "  <th>Skew:</th>           <td> 1.082</td>  <th>  Prob(JB):          </th> <td>    0.00</td> \n",
       "</tr>\n",
       "<tr>\n",
       "  <th>Kurtosis:</th>       <td> 6.420</td>  <th>  Cond. No.          </th> <td>2.38e+05</td> \n",
       "</tr>\n",
       "</table><br/><br/>Notes:<br/>[1] Standard Errors assume that the covariance matrix of the errors is correctly specified.<br/>[2] The condition number is large, 2.38e+05. This might indicate that there are<br/>strong multicollinearity or other numerical problems."
      ],
      "text/plain": [
       "<class 'statsmodels.iolib.summary.Summary'>\n",
       "\"\"\"\n",
       "                            OLS Regression Results                            \n",
       "==============================================================================\n",
       "Dep. Variable:                      y   R-squared:                       0.606\n",
       "Model:                            OLS   Adj. R-squared:                  0.606\n",
       "Method:                 Least Squares   F-statistic:                     3970.\n",
       "Date:                Sun, 10 Oct 2021   Prob (F-statistic):               0.00\n",
       "Time:                        14:47:17   Log-Likelihood:                -22624.\n",
       "No. Observations:               20640   AIC:                         4.527e+04\n",
       "Df Residuals:                   20631   BIC:                         4.534e+04\n",
       "Df Model:                           8                                         \n",
       "Covariance Type:            nonrobust                                         \n",
       "==============================================================================\n",
       "                 coef    std err          t      P>|t|      [0.025      0.975]\n",
       "------------------------------------------------------------------------------\n",
       "const        -36.9419      0.659    -56.067      0.000     -38.233     -35.650\n",
       "MedInc         0.4367      0.004    104.054      0.000       0.428       0.445\n",
       "HouseAge       0.0094      0.000     21.143      0.000       0.009       0.010\n",
       "AveRooms      -0.1073      0.006    -18.235      0.000      -0.119      -0.096\n",
       "AveBedrms      0.6451      0.028     22.928      0.000       0.590       0.700\n",
       "Population -3.976e-06   4.75e-06     -0.837      0.402   -1.33e-05    5.33e-06\n",
       "AveOccup      -0.0038      0.000     -7.769      0.000      -0.005      -0.003\n",
       "Latitude      -0.4213      0.007    -58.541      0.000      -0.435      -0.407\n",
       "Longitude     -0.4345      0.008    -57.682      0.000      -0.449      -0.420\n",
       "==============================================================================\n",
       "Omnibus:                     4393.650   Durbin-Watson:                   0.885\n",
       "Prob(Omnibus):                  0.000   Jarque-Bera (JB):            14087.596\n",
       "Skew:                           1.082   Prob(JB):                         0.00\n",
       "Kurtosis:                       6.420   Cond. No.                     2.38e+05\n",
       "==============================================================================\n",
       "\n",
       "Notes:\n",
       "[1] Standard Errors assume that the covariance matrix of the errors is correctly specified.\n",
       "[2] The condition number is large, 2.38e+05. This might indicate that there are\n",
       "strong multicollinearity or other numerical problems.\n",
       "\"\"\""
      ]
     },
     "execution_count": 241,
     "metadata": {},
     "output_type": "execute_result"
    }
   ],
   "source": [
    "result.summary()"
   ]
  },
  {
   "cell_type": "code",
   "execution_count": null,
   "id": "2db03899",
   "metadata": {},
   "outputs": [],
   "source": []
  }
 ],
 "metadata": {
  "kernelspec": {
   "display_name": "Python 3",
   "language": "python",
   "name": "python3"
  },
  "language_info": {
   "codemirror_mode": {
    "name": "ipython",
    "version": 3
   },
   "file_extension": ".py",
   "mimetype": "text/x-python",
   "name": "python",
   "nbconvert_exporter": "python",
   "pygments_lexer": "ipython3",
   "version": "3.7.9"
  }
 },
 "nbformat": 4,
 "nbformat_minor": 5
}
